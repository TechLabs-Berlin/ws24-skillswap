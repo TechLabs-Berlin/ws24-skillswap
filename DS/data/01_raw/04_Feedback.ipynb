{
 "cells": [
  {
   "cell_type": "code",
   "execution_count": 2,
   "metadata": {},
   "outputs": [],
   "source": [
    "import pandas as pd\n",
    "import random"
   ]
  },
  {
   "cell_type": "code",
   "execution_count": 3,
   "metadata": {},
   "outputs": [],
   "source": [
    "# Create Lists for Feedback categories\n",
    "Usability = []\n",
    "Speed_Performance = []\n",
    "Feature_Satisfaction = []\n",
    "Security_Satisfaction = []\n",
    "Customer_Support =[]"
   ]
  },
  {
   "cell_type": "code",
   "execution_count": 4,
   "metadata": {},
   "outputs": [],
   "source": [
    "# Define the rating options\n",
    "rating_options = [\n",
    "    \"Very Dissatisfied\",\n",
    "    \"Dissatisfied\",\n",
    "    \"Neutral or Average\",\n",
    "    \"Satisfied\",\n",
    "    \"Very Satisfied\"\n",
    "]\n",
    "\n"
   ]
  },
  {
   "cell_type": "code",
   "execution_count": 5,
   "metadata": {},
   "outputs": [],
   "source": [
    "# Generate random ratings for each feedback category\n",
    "for fb_category in [\n",
    "    Usability,\n",
    "    Speed_Performance,\n",
    "    Feature_Satisfaction,\n",
    "    Security_Satisfaction,\n",
    "    Customer_Support\n",
    "]:\n",
    "\n",
    "    for _ in range(750):\n",
    "        fb_category.append(random.choice(rating_options))"
   ]
  },
  {
   "cell_type": "code",
   "execution_count": 6,
   "metadata": {},
   "outputs": [
    {
     "data": {
      "text/html": [
       "<div>\n",
       "<style scoped>\n",
       "    .dataframe tbody tr th:only-of-type {\n",
       "        vertical-align: middle;\n",
       "    }\n",
       "\n",
       "    .dataframe tbody tr th {\n",
       "        vertical-align: top;\n",
       "    }\n",
       "\n",
       "    .dataframe thead th {\n",
       "        text-align: right;\n",
       "    }\n",
       "</style>\n",
       "<table border=\"1\" class=\"dataframe\">\n",
       "  <thead>\n",
       "    <tr style=\"text-align: right;\">\n",
       "      <th></th>\n",
       "      <th>Usability</th>\n",
       "      <th>Speed_Performance</th>\n",
       "      <th>Feature_Satisfaction</th>\n",
       "      <th>Security_Satisfaction</th>\n",
       "      <th>Customer_Support</th>\n",
       "    </tr>\n",
       "  </thead>\n",
       "  <tbody>\n",
       "    <tr>\n",
       "      <th>0</th>\n",
       "      <td>Very Dissatisfied</td>\n",
       "      <td>Very Dissatisfied</td>\n",
       "      <td>Very Satisfied</td>\n",
       "      <td>Satisfied</td>\n",
       "      <td>Dissatisfied</td>\n",
       "    </tr>\n",
       "    <tr>\n",
       "      <th>1</th>\n",
       "      <td>Dissatisfied</td>\n",
       "      <td>Neutral or Average</td>\n",
       "      <td>Dissatisfied</td>\n",
       "      <td>Neutral or Average</td>\n",
       "      <td>Neutral or Average</td>\n",
       "    </tr>\n",
       "    <tr>\n",
       "      <th>2</th>\n",
       "      <td>Very Dissatisfied</td>\n",
       "      <td>Neutral or Average</td>\n",
       "      <td>Dissatisfied</td>\n",
       "      <td>Satisfied</td>\n",
       "      <td>Satisfied</td>\n",
       "    </tr>\n",
       "    <tr>\n",
       "      <th>3</th>\n",
       "      <td>Satisfied</td>\n",
       "      <td>Very Dissatisfied</td>\n",
       "      <td>Neutral or Average</td>\n",
       "      <td>Very Dissatisfied</td>\n",
       "      <td>Very Satisfied</td>\n",
       "    </tr>\n",
       "    <tr>\n",
       "      <th>4</th>\n",
       "      <td>Satisfied</td>\n",
       "      <td>Very Satisfied</td>\n",
       "      <td>Dissatisfied</td>\n",
       "      <td>Neutral or Average</td>\n",
       "      <td>Satisfied</td>\n",
       "    </tr>\n",
       "  </tbody>\n",
       "</table>\n",
       "</div>"
      ],
      "text/plain": [
       "           Usability   Speed_Performance Feature_Satisfaction  \\\n",
       "0  Very Dissatisfied   Very Dissatisfied       Very Satisfied   \n",
       "1       Dissatisfied  Neutral or Average         Dissatisfied   \n",
       "2  Very Dissatisfied  Neutral or Average         Dissatisfied   \n",
       "3          Satisfied   Very Dissatisfied   Neutral or Average   \n",
       "4          Satisfied      Very Satisfied         Dissatisfied   \n",
       "\n",
       "  Security_Satisfaction    Customer_Support  \n",
       "0             Satisfied        Dissatisfied  \n",
       "1    Neutral or Average  Neutral or Average  \n",
       "2             Satisfied           Satisfied  \n",
       "3     Very Dissatisfied      Very Satisfied  \n",
       "4    Neutral or Average           Satisfied  "
      ]
     },
     "execution_count": 6,
     "metadata": {},
     "output_type": "execute_result"
    }
   ],
   "source": [
    "# Create a dictionary with feedback categories\n",
    "table = {\n",
    "    'Usability': Usability,\n",
    "    'Speed_Performance': Speed_Performance,\n",
    "    'Feature_Satisfaction': Feature_Satisfaction,\n",
    "    'Security_Satisfaction': Security_Satisfaction,\n",
    "    'Customer_Support': Customer_Support\n",
    "}\n",
    "\n",
    "Feedback = pd.DataFrame(table)\n",
    "Feedback.head()"
   ]
  },
  {
   "cell_type": "code",
   "execution_count": 7,
   "metadata": {},
   "outputs": [],
   "source": [
    "Feedback.to_csv('Feedback.csv', index=False)"
   ]
  },
  {
   "cell_type": "code",
   "execution_count": 8,
   "metadata": {},
   "outputs": [
    {
     "data": {
      "text/html": [
       "<div>\n",
       "<style scoped>\n",
       "    .dataframe tbody tr th:only-of-type {\n",
       "        vertical-align: middle;\n",
       "    }\n",
       "\n",
       "    .dataframe tbody tr th {\n",
       "        vertical-align: top;\n",
       "    }\n",
       "\n",
       "    .dataframe thead th {\n",
       "        text-align: right;\n",
       "    }\n",
       "</style>\n",
       "<table border=\"1\" class=\"dataframe\">\n",
       "  <thead>\n",
       "    <tr style=\"text-align: right;\">\n",
       "      <th></th>\n",
       "      <th>Factor</th>\n",
       "      <th>User Data</th>\n",
       "      <th>Data Type</th>\n",
       "    </tr>\n",
       "  </thead>\n",
       "  <tbody>\n",
       "    <tr>\n",
       "      <th>0</th>\n",
       "      <td>Feedback</td>\n",
       "      <td>Usability</td>\n",
       "      <td>object</td>\n",
       "    </tr>\n",
       "    <tr>\n",
       "      <th>1</th>\n",
       "      <td>Feedback</td>\n",
       "      <td>Speed_Performance</td>\n",
       "      <td>object</td>\n",
       "    </tr>\n",
       "    <tr>\n",
       "      <th>2</th>\n",
       "      <td>Feedback</td>\n",
       "      <td>Feature_Satisfaction</td>\n",
       "      <td>object</td>\n",
       "    </tr>\n",
       "    <tr>\n",
       "      <th>3</th>\n",
       "      <td>Feedback</td>\n",
       "      <td>Security_Satisfaction</td>\n",
       "      <td>object</td>\n",
       "    </tr>\n",
       "    <tr>\n",
       "      <th>4</th>\n",
       "      <td>Feedback</td>\n",
       "      <td>Customer_Support</td>\n",
       "      <td>object</td>\n",
       "    </tr>\n",
       "  </tbody>\n",
       "</table>\n",
       "</div>"
      ],
      "text/plain": [
       "     Factor              User Data Data Type\n",
       "0  Feedback              Usability    object\n",
       "1  Feedback      Speed_Performance    object\n",
       "2  Feedback   Feature_Satisfaction    object\n",
       "3  Feedback  Security_Satisfaction    object\n",
       "4  Feedback       Customer_Support    object"
      ]
     },
     "execution_count": 8,
     "metadata": {},
     "output_type": "execute_result"
    }
   ],
   "source": [
    "# Create Overview over dtypes \n",
    "column_info = []\n",
    "\n",
    "for column, dtype in Feedback.dtypes.items():\n",
    "    column_info.append((column, str(dtype)))\n",
    "    \n",
    "df_column_info = pd.DataFrame(column_info, columns=['User Data', 'Data Type'])\n",
    "df_column_info['Factor'] = 'Feedback'\n",
    "factor_column = df_column_info.pop('Factor')\n",
    "\n",
    "# Insert the \"Factor\" column as the first column\n",
    "df_column_info.insert(0, 'Factor', factor_column)\n",
    "df_column_info.head()\n"
   ]
  },
  {
   "cell_type": "code",
   "execution_count": 9,
   "metadata": {},
   "outputs": [],
   "source": [
    "# df_column_info.to_csv('dtype_Feedback.csv', index=False)"
   ]
  },
  {
   "cell_type": "code",
   "execution_count": null,
   "metadata": {},
   "outputs": [],
   "source": []
  }
 ],
 "metadata": {
  "kernelspec": {
   "display_name": "Python 3",
   "language": "python",
   "name": "python3"
  },
  "language_info": {
   "codemirror_mode": {
    "name": "ipython",
    "version": 3
   },
   "file_extension": ".py",
   "mimetype": "text/x-python",
   "name": "python",
   "nbconvert_exporter": "python",
   "pygments_lexer": "ipython3",
   "version": "3.12.1"
  }
 },
 "nbformat": 4,
 "nbformat_minor": 2
}
