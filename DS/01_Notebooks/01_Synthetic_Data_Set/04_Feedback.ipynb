{
 "cells": [
  {
   "cell_type": "code",
   "execution_count": 1,
   "metadata": {},
   "outputs": [],
   "source": [
    "import pandas as pd\n",
    "import random\n",
    "import numpy as np"
   ]
  },
  {
   "cell_type": "code",
   "execution_count": 2,
   "metadata": {},
   "outputs": [],
   "source": [
    "# Create Lists for Feedback categories\n",
    "Usability = []\n",
    "Speed_Performance = []\n",
    "Feature_Satisfaction = []\n",
    "Security_Satisfaction = []\n",
    "Customer_Support =[]"
   ]
  },
  {
   "cell_type": "code",
   "execution_count": 3,
   "metadata": {},
   "outputs": [],
   "source": [
    "# Define the rating options\n",
    "rating_options = [\n",
    "    \"Very Dissatisfied\",\n",
    "    \"Dissatisfied\",\n",
    "    \"Neutral or Average\",\n",
    "    \"Satisfied\",\n",
    "    \"Very Satisfied\"\n",
    "]\n",
    "\n"
   ]
  },
  {
   "cell_type": "code",
   "execution_count": 4,
   "metadata": {},
   "outputs": [],
   "source": [
    "# Assumption: On average, people rate something between \"Neutral or Average\" and \"Satisfied\"\n",
    "# Calculate the mean as the midpoint of the mean range\n",
    "# Define the standard deviation\n",
    "# Generate normally distributed feedback ratings\n",
    "# Calculate the probabilities using the normal distribution formula\n",
    "\n",
    "mean_range = [rating_options.index(\"Neutral or Average\"), rating_options.index(\"Satisfied\")]\n",
    "\n",
    "mean = np.mean(mean_range)\n",
    "\n",
    "std_dev = len(rating_options) / 3  \n",
    "\n",
    "for category_list in [Usability, Speed_Performance, Feature_Satisfaction, Security_Satisfaction, Customer_Support]:\n",
    "    for _ in range(800):\n",
    "        probabilities = np.exp(-(np.arange(len(rating_options)) - mean)**2 / (2 * std_dev**2))\n",
    "        probabilities /= np.sum(probabilities)  \n",
    "        category_list.append(np.random.choice(rating_options, p=probabilities))\n"
   ]
  },
  {
   "cell_type": "code",
   "execution_count": 5,
   "metadata": {},
   "outputs": [
    {
     "data": {
      "text/html": [
       "<div>\n",
       "<style scoped>\n",
       "    .dataframe tbody tr th:only-of-type {\n",
       "        vertical-align: middle;\n",
       "    }\n",
       "\n",
       "    .dataframe tbody tr th {\n",
       "        vertical-align: top;\n",
       "    }\n",
       "\n",
       "    .dataframe thead th {\n",
       "        text-align: right;\n",
       "    }\n",
       "</style>\n",
       "<table border=\"1\" class=\"dataframe\">\n",
       "  <thead>\n",
       "    <tr style=\"text-align: right;\">\n",
       "      <th></th>\n",
       "      <th>Usability</th>\n",
       "      <th>Speed_Performance</th>\n",
       "      <th>Feature_Satisfaction</th>\n",
       "      <th>Security_Satisfaction</th>\n",
       "      <th>Customer_Support</th>\n",
       "    </tr>\n",
       "  </thead>\n",
       "  <tbody>\n",
       "    <tr>\n",
       "      <th>0</th>\n",
       "      <td>Neutral or Average</td>\n",
       "      <td>Very Dissatisfied</td>\n",
       "      <td>Very Dissatisfied</td>\n",
       "      <td>Neutral or Average</td>\n",
       "      <td>Very Dissatisfied</td>\n",
       "    </tr>\n",
       "    <tr>\n",
       "      <th>1</th>\n",
       "      <td>Satisfied</td>\n",
       "      <td>Dissatisfied</td>\n",
       "      <td>Satisfied</td>\n",
       "      <td>Neutral or Average</td>\n",
       "      <td>Very Satisfied</td>\n",
       "    </tr>\n",
       "    <tr>\n",
       "      <th>2</th>\n",
       "      <td>Dissatisfied</td>\n",
       "      <td>Neutral or Average</td>\n",
       "      <td>Satisfied</td>\n",
       "      <td>Very Satisfied</td>\n",
       "      <td>Satisfied</td>\n",
       "    </tr>\n",
       "    <tr>\n",
       "      <th>3</th>\n",
       "      <td>Satisfied</td>\n",
       "      <td>Very Dissatisfied</td>\n",
       "      <td>Dissatisfied</td>\n",
       "      <td>Neutral or Average</td>\n",
       "      <td>Dissatisfied</td>\n",
       "    </tr>\n",
       "    <tr>\n",
       "      <th>4</th>\n",
       "      <td>Neutral or Average</td>\n",
       "      <td>Neutral or Average</td>\n",
       "      <td>Neutral or Average</td>\n",
       "      <td>Satisfied</td>\n",
       "      <td>Satisfied</td>\n",
       "    </tr>\n",
       "  </tbody>\n",
       "</table>\n",
       "</div>"
      ],
      "text/plain": [
       "            Usability   Speed_Performance Feature_Satisfaction  \\\n",
       "0  Neutral or Average   Very Dissatisfied    Very Dissatisfied   \n",
       "1           Satisfied        Dissatisfied            Satisfied   \n",
       "2        Dissatisfied  Neutral or Average            Satisfied   \n",
       "3           Satisfied   Very Dissatisfied         Dissatisfied   \n",
       "4  Neutral or Average  Neutral or Average   Neutral or Average   \n",
       "\n",
       "  Security_Satisfaction   Customer_Support  \n",
       "0    Neutral or Average  Very Dissatisfied  \n",
       "1    Neutral or Average     Very Satisfied  \n",
       "2        Very Satisfied          Satisfied  \n",
       "3    Neutral or Average       Dissatisfied  \n",
       "4             Satisfied          Satisfied  "
      ]
     },
     "execution_count": 5,
     "metadata": {},
     "output_type": "execute_result"
    }
   ],
   "source": [
    "# Create a dictionary with feedback categories\n",
    "table = {\n",
    "    'Usability': Usability,\n",
    "    'Speed_Performance': Speed_Performance,\n",
    "    'Feature_Satisfaction': Feature_Satisfaction,\n",
    "    'Security_Satisfaction': Security_Satisfaction,\n",
    "    'Customer_Support': Customer_Support\n",
    "}\n",
    "\n",
    "Feedback = pd.DataFrame(table)\n",
    "Feedback.head()"
   ]
  },
  {
   "cell_type": "code",
   "execution_count": 6,
   "metadata": {},
   "outputs": [],
   "source": [
    "Feedback.to_csv('Feedback.csv', index=False)"
   ]
  }
 ],
 "metadata": {
  "kernelspec": {
   "display_name": "Python 3",
   "language": "python",
   "name": "python3"
  },
  "language_info": {
   "codemirror_mode": {
    "name": "ipython",
    "version": 3
   },
   "file_extension": ".py",
   "mimetype": "text/x-python",
   "name": "python",
   "nbconvert_exporter": "python",
   "pygments_lexer": "ipython3",
   "version": "3.12.1"
  }
 },
 "nbformat": 4,
 "nbformat_minor": 2
}
